{
 "cells": [
  {
   "cell_type": "code",
   "execution_count": 1,
   "id": "84fed4cd",
   "metadata": {},
   "outputs": [],
   "source": [
    "import requests\n",
    "import os\n",
    "import json"
   ]
  },
  {
   "cell_type": "code",
   "execution_count": 2,
   "id": "e6aae9e8",
   "metadata": {},
   "outputs": [],
   "source": [
    "# To set your environment variables in your terminal run the following line:\n",
    "# export 'BEARER_TOKEN'='<your_bearer_token>'\n",
    "token = 'KakaoAK <your API KEY>'\n",
    "\n",
    "#search_url = \"https://dapi.kakao.com/v2/local/search/keyword.json?query=카카오프렌즈\"\n",
    "search_url = \"https://dapi.kakao.com/v2/local/search/keyword.json\""
   ]
  },
  {
   "cell_type": "code",
   "execution_count": 22,
   "id": "9516516d",
   "metadata": {},
   "outputs": [
    {
     "name": "stdout",
     "output_type": "stream",
     "text": [
      "https://dapi.kakao.com/v2/local/search/keyword.json?query=강남역 맛집\n"
     ]
    }
   ],
   "source": [
    "#origin_url = \"https://dapi.kakao.com/v2/local/search/keyword.json?query=카카오프렌즈\"\n",
    "\n",
    "query=\"?query=\"\n",
    "keyword =\"강남역 맛집\"\n",
    "option = \"\"\n",
    "\n",
    "#url = \"https://dapi.kakao.com/v2/local/search/keyword.json?query=카카오프렌즈\"\n",
    "url = search_url + query + keyword\n",
    "print(url)"
   ]
  },
  {
   "cell_type": "code",
   "execution_count": 23,
   "id": "55b9c438",
   "metadata": {},
   "outputs": [],
   "source": [
    "payload={}\n",
    "headers = {\n",
    "  'Authorization': token\n",
    "}\n",
    "\n",
    "#response = requests.request(\"GET\", url, headers=headers, data=payload)\n",
    "response = requests.get(url,headers=headers, data=payload)\n",
    "\n",
    "result=response.text\n",
    "result_json=response.json()"
   ]
  },
  {
   "cell_type": "code",
   "execution_count": 24,
   "id": "773be7e5",
   "metadata": {},
   "outputs": [],
   "source": [
    "with open('kakao_search.json', 'w', encoding='UTF-8-sig') as json_file:\n",
    "    json.dump(result_json, json_file,ensure_ascii=False)"
   ]
  },
  {
   "cell_type": "code",
   "execution_count": 25,
   "id": "883dd792",
   "metadata": {},
   "outputs": [
    {
     "name": "stdout",
     "output_type": "stream",
     "text": [
      "{'documents': [{'address_name': '서울 강남구 역삼동 817-31', 'category_group_code': 'FD6', 'category_group_name': '음식점', 'category_name': '음식점 > 아시아음식 > 동남아음식 > 베트남음식', 'distance': '', 'id': '1238400864', 'phone': '02-554-8892', 'place_name': '땀땀', 'place_url': 'http://place.map.kakao.com/1238400864', 'road_address_name': '', 'x': '127.02800112962187', 'y': '37.500373991376584'}, {'address_name': '서울 강남구 역삼동 817-36', 'category_group_code': 'FD6', 'category_group_name': '음식점', 'category_name': '음식점 > 양식', 'distance': '', 'id': '25891059', 'phone': '02-558-8459', 'place_name': '어글리스토브 강남역점', 'place_url': 'http://place.map.kakao.com/25891059', 'road_address_name': '서울 강남구 강남대로98길 20', 'x': '127.028245546939', 'y': '37.5007523557137'}, {'address_name': '서울 강남구 역삼동 824-29', 'category_group_code': 'FD6', 'category_group_name': '음식점', 'category_name': '음식점 > 분식', 'distance': '', 'id': '1863534623', 'phone': '02-6014-1245', 'place_name': '보슬보슬', 'place_url': 'http://place.map.kakao.com/1863534623', 'road_address_name': '서울 강남구 테헤란로8길 22', 'x': '127.0316074527639', 'y': '37.49739976085793'}, {'address_name': '서울 강남구 역삼동 822-4', 'category_group_code': 'FD6', 'category_group_name': '음식점', 'category_name': '음식점 > 일식 > 초밥,롤', 'distance': '', 'id': '13575898', 'phone': '02-2051-1477', 'place_name': '갓덴스시 강남점', 'place_url': 'http://place.map.kakao.com/13575898', 'road_address_name': '서울 강남구 테헤란로 109', 'x': '127.029090699483', 'y': '37.498777145173'}, {'address_name': '서울 강남구 역삼동 648-9', 'category_group_code': 'CE7', 'category_group_name': '카페', 'category_name': '음식점 > 카페', 'distance': '', 'id': '495658881', 'phone': '02-6212-6998', 'place_name': '블루보틀 역삼 카페', 'place_url': 'http://place.map.kakao.com/495658881', 'road_address_name': '서울 강남구 테헤란로 129', 'x': '127.03237757132041', 'y': '37.50003049065215'}, {'address_name': '서울 서초구 서초동 1316-29', 'category_group_code': 'FD6', 'category_group_name': '음식점', 'category_name': '음식점 > 양식 > 멕시칸,브라질', 'distance': '', 'id': '1752978029', 'phone': '', 'place_name': '낙원타코 강남역점', 'place_url': 'http://place.map.kakao.com/1752978029', 'road_address_name': '서울 서초구 서초대로73길 9', 'x': '127.025236511987', 'y': '37.4983131121359'}, {'address_name': '서울 서초구 서초동 1317-1', 'category_group_code': 'FD6', 'category_group_name': '음식점', 'category_name': '음식점 > 일식 > 참치회', 'distance': '', 'id': '109169564', 'phone': '02-591-4558', 'place_name': '이춘복참치&스시 강남점', 'place_url': 'http://place.map.kakao.com/109169564', 'road_address_name': '서울 서초구 강남대로61길 13', 'x': '127.02562573100964', 'y': '37.49889688044026'}, {'address_name': '서울 강남구 역삼동 820-1', 'category_group_code': 'FD6', 'category_group_name': '음식점', 'category_name': '음식점 > 한식 > 육류,고기 > 닭요리', 'distance': '', 'id': '95713992', 'phone': '02-3452-3441', 'place_name': '장인닭갈비 강남점', 'place_url': 'http://place.map.kakao.com/95713992', 'road_address_name': '서울 강남구 테헤란로1길 19', 'x': '127.027534918874', 'y': '37.4996136518153'}, {'address_name': '서울 강남구 역삼동 816-3', 'category_group_code': 'FD6', 'category_group_name': '음식점', 'category_name': '음식점 > 양식 > 이탈리안', 'distance': '', 'id': '25036974', 'phone': '02-501-0885', 'place_name': '프리모바치오바치 강남점', 'place_url': 'http://place.map.kakao.com/25036974', 'road_address_name': '서울 강남구 강남대로 416', 'x': '127.02719571715', 'y': '37.4997939316196'}, {'address_name': '서울 강남구 역삼동 818-14', 'category_group_code': 'FD6', 'category_group_name': '음식점', 'category_name': '음식점 > 양식 > 이탈리안', 'distance': '', 'id': '26330643', 'phone': '', 'place_name': '마녀주방 강남점', 'place_url': 'http://place.map.kakao.com/26330643', 'road_address_name': '서울 강남구 강남대로94길 9', 'x': '127.02809126759875', 'y': '37.499481973929164'}, {'address_name': '서울 강남구 역삼동 826-20', 'category_group_code': 'FD6', 'category_group_name': '음식점', 'category_name': '음식점 > 한식 > 육류,고기', 'distance': '', 'id': '1503746075', 'phone': '02-508-0043', 'place_name': '창고43 강남점', 'place_url': 'http://place.map.kakao.com/1503746075', 'road_address_name': '서울 강남구 강남대로 362', 'x': '127.029261226005', 'y': '37.4952739895914'}, {'address_name': '서울 강남구 역삼동 618-18', 'category_group_code': 'CE7', 'category_group_name': '카페', 'category_name': '음식점 > 카페', 'distance': '', 'id': '714214219', 'phone': '02-552-0204', 'place_name': '랑데자뷰 강남점', 'place_url': 'http://place.map.kakao.com/714214219', 'road_address_name': '서울 강남구 봉은사로6길 39', 'x': '127.027943183644', 'y': '37.5026841841328'}, {'address_name': '서울 서초구 서초동 1327-2', 'category_group_code': 'FD6', 'category_group_name': '음식점', 'category_name': '음식점 > 중식 > 중화요리', 'distance': '', 'id': '27504403', 'phone': '02-555-8133', 'place_name': '일일향 3호점', 'place_url': 'http://place.map.kakao.com/27504403', 'road_address_name': '서울 서초구 서초대로78길 22', 'x': '127.027533517545', 'y': '37.4957969888219'}, {'address_name': '서울 강남구 역삼동 618-18', 'category_group_code': 'FD6', 'category_group_name': '음식점', 'category_name': '음식점 > 양식', 'distance': '', 'id': '18076495', 'phone': '02-3452-1515', 'place_name': '바비레드 강남본점', 'place_url': 'http://place.map.kakao.com/18076495', 'road_address_name': '서울 강남구 봉은사로6길 39', 'x': '127.02791150266208', 'y': '37.502644547372164'}, {'address_name': '서울 서초구 서초동 1307-11', 'category_group_code': 'FD6', 'category_group_name': '음식점', 'category_name': '음식점 > 술집 > 일본식주점', 'distance': '', 'id': '27564595', 'phone': '02-535-0348', 'place_name': '이자카야나무 강남3호점', 'place_url': 'http://place.map.kakao.com/27564595', 'road_address_name': '서울 서초구 서초대로75길 23', 'x': '127.025313903915', 'y': '37.4997727257013'}], 'meta': {'is_end': False, 'pageable_count': 45, 'same_name': {'keyword': '맛집', 'region': [], 'selected_region': '서울 강남구 강남역'}, 'total_count': 16055}}\n"
     ]
    }
   ],
   "source": [
    "json_data = json.loads(result)\n",
    "print(json_data)"
   ]
  },
  {
   "cell_type": "code",
   "execution_count": 15,
   "id": "56e797e3",
   "metadata": {},
   "outputs": [],
   "source": [
    "data = json_data['documents']"
   ]
  },
  {
   "cell_type": "code",
   "execution_count": 17,
   "id": "de60575a",
   "metadata": {},
   "outputs": [
    {
     "data": {
      "text/plain": [
       "[{'address_name': '서울 서초구 서초동 1305-7',\n",
       "  'category_group_code': '',\n",
       "  'category_group_name': '',\n",
       "  'category_name': '가정,생활 > 문구,사무용품 > 디자인문구 > 카카오프렌즈',\n",
       "  'distance': '',\n",
       "  'id': '653245473',\n",
       "  'phone': '02-6494-1100',\n",
       "  'place_name': '카카오프렌즈 강남플래그십스토어',\n",
       "  'place_url': 'http://place.map.kakao.com/653245473',\n",
       "  'road_address_name': '서울 서초구 강남대로 429',\n",
       "  'x': '127.025811882515',\n",
       "  'y': '37.5008934694709'},\n",
       " {'address_name': '서울 마포구 동교동 165-5',\n",
       "  'category_group_code': '',\n",
       "  'category_group_name': '',\n",
       "  'category_name': '가정,생활 > 문구,사무용품 > 디자인문구 > 카카오프렌즈',\n",
       "  'distance': '',\n",
       "  'id': '1786432255',\n",
       "  'phone': '02-6010-0104',\n",
       "  'place_name': '카카오프렌즈 홍대플래그십스토어',\n",
       "  'place_url': 'http://place.map.kakao.com/1786432255',\n",
       "  'road_address_name': '서울 마포구 양화로 162',\n",
       "  'x': '126.923919460392',\n",
       "  'y': '37.5563194254356'},\n",
       " {'address_name': '전북 전주시 완산구 전동 74',\n",
       "  'category_group_code': '',\n",
       "  'category_group_name': '',\n",
       "  'category_name': '가정,생활 > 문구,사무용품 > 디자인문구 > 카카오프렌즈',\n",
       "  'distance': '',\n",
       "  'id': '1831095361',\n",
       "  'phone': '063-285-1230',\n",
       "  'place_name': '카카오프렌즈 전주한옥마을점',\n",
       "  'place_url': 'http://place.map.kakao.com/1831095361',\n",
       "  'road_address_name': '전북 전주시 완산구 팔달로 126',\n",
       "  'x': '127.148735902147',\n",
       "  'y': '35.8140143576911'},\n",
       " {'address_name': '부산 중구 광복동2가 44-2',\n",
       "  'category_group_code': '',\n",
       "  'category_group_name': '',\n",
       "  'category_name': '가정,생활 > 문구,사무용품 > 디자인문구 > 카카오프렌즈',\n",
       "  'distance': '',\n",
       "  'id': '43233680',\n",
       "  'phone': '051-256-0815',\n",
       "  'place_name': '카카오프렌즈 부산플래그십스토어',\n",
       "  'place_url': 'http://place.map.kakao.com/43233680',\n",
       "  'road_address_name': '부산 중구 광복로 62',\n",
       "  'x': '129.031593377701',\n",
       "  'y': '35.0990234511162'},\n",
       " {'address_name': '서울 중구 을지로7가 143',\n",
       "  'category_group_code': '',\n",
       "  'category_group_name': '',\n",
       "  'category_name': '가정,생활 > 문구,사무용품 > 디자인문구 > 카카오프렌즈',\n",
       "  'distance': '',\n",
       "  'id': '329600907',\n",
       "  'phone': '02-2231-3552',\n",
       "  'place_name': '카카오프렌즈 DDP동대문점',\n",
       "  'place_url': 'http://place.map.kakao.com/329600907',\n",
       "  'road_address_name': '서울 중구 을지로 281',\n",
       "  'x': '127.009865740324',\n",
       "  'y': '37.5672059407741'},\n",
       " {'address_name': '서울 강남구 삼성동 159',\n",
       "  'category_group_code': '',\n",
       "  'category_group_name': '',\n",
       "  'category_name': '가정,생활 > 문구,사무용품 > 디자인문구 > 카카오프렌즈',\n",
       "  'distance': '',\n",
       "  'id': '26338954',\n",
       "  'phone': '02-6002-1880',\n",
       "  'place_name': '카카오프렌즈 스타필드 코엑스몰점',\n",
       "  'place_url': 'http://place.map.kakao.com/26338954',\n",
       "  'road_address_name': '서울 강남구 영동대로 513',\n",
       "  'x': '127.059028716089',\n",
       "  'y': '37.5120756277877'},\n",
       " {'address_name': '서울 영등포구 영등포동4가 442',\n",
       "  'category_group_code': '',\n",
       "  'category_group_name': '',\n",
       "  'category_name': '가정,생활 > 문구,사무용품 > 디자인문구 > 카카오프렌즈',\n",
       "  'distance': '',\n",
       "  'id': '1411970905',\n",
       "  'phone': '02-2638-2750',\n",
       "  'place_name': '카카오프렌즈 타임스퀘어점',\n",
       "  'place_url': 'http://place.map.kakao.com/1411970905',\n",
       "  'road_address_name': '서울 영등포구 영중로 15',\n",
       "  'x': '126.90306008669398',\n",
       "  'y': '37.51710703022398'},\n",
       " {'address_name': '제주특별자치도 제주시 용담2동 2002',\n",
       "  'category_group_code': '',\n",
       "  'category_group_name': '',\n",
       "  'category_name': '가정,생활 > 문구,사무용품 > 디자인문구 > 카카오프렌즈',\n",
       "  'distance': '',\n",
       "  'id': '981854961',\n",
       "  'phone': '',\n",
       "  'place_name': '카카오프렌즈 제주공항 JDC면세점',\n",
       "  'place_url': 'http://place.map.kakao.com/981854961',\n",
       "  'road_address_name': '제주특별자치도 제주시 공항로 2',\n",
       "  'x': '126.49382672499009',\n",
       "  'y': '33.50711664260969'},\n",
       " {'address_name': '서울 송파구 신천동 29',\n",
       "  'category_group_code': '',\n",
       "  'category_group_name': '',\n",
       "  'category_name': '가정,생활 > 문구,사무용품 > 디자인문구 > 카카오프렌즈',\n",
       "  'distance': '',\n",
       "  'id': '27375630',\n",
       "  'phone': '02-3213-4514',\n",
       "  'place_name': '카카오프렌즈 롯데월드몰 잠실점',\n",
       "  'place_url': 'http://place.map.kakao.com/27375630',\n",
       "  'road_address_name': '서울 송파구 올림픽로 300',\n",
       "  'x': '127.104446099818',\n",
       "  'y': '37.5137525026039'},\n",
       " {'address_name': '제주특별자치도 제주시 연동 252-43',\n",
       "  'category_group_code': '',\n",
       "  'category_group_name': '',\n",
       "  'category_name': '가정,생활 > 문구,사무용품 > 디자인문구 > 카카오프렌즈',\n",
       "  'distance': '',\n",
       "  'id': '151657875',\n",
       "  'phone': '',\n",
       "  'place_name': '카카오프렌즈 제주신라면세점',\n",
       "  'place_url': 'http://place.map.kakao.com/151657875',\n",
       "  'road_address_name': '제주특별자치도 제주시 노연로 69',\n",
       "  'x': '126.48752655406',\n",
       "  'y': '33.4862757180351'},\n",
       " {'address_name': '서울 중구 남대문로2가 123',\n",
       "  'category_group_code': '',\n",
       "  'category_group_name': '',\n",
       "  'category_name': '가정,생활 > 문구,사무용품 > 디자인문구 > 카카오프렌즈',\n",
       "  'distance': '',\n",
       "  'id': '1044004404',\n",
       "  'phone': '02-2118-5150',\n",
       "  'place_name': '카카오프렌즈 롯데영플라자명동점',\n",
       "  'place_url': 'http://place.map.kakao.com/1044004404',\n",
       "  'road_address_name': '서울 중구 남대문로 67',\n",
       "  'x': '126.981682046205',\n",
       "  'y': '37.5635252637636'},\n",
       " {'address_name': '대구 동구 신천동 1506',\n",
       "  'category_group_code': '',\n",
       "  'category_group_name': '',\n",
       "  'category_name': '가정,생활 > 문구,사무용품 > 디자인문구 > 카카오프렌즈',\n",
       "  'distance': '',\n",
       "  'id': '2078031633',\n",
       "  'phone': '053-661-6942',\n",
       "  'place_name': '카카오프렌즈 신세계백화점 동대구점',\n",
       "  'place_url': 'http://place.map.kakao.com/2078031633',\n",
       "  'road_address_name': '대구 동구 동부로 149',\n",
       "  'x': '128.62895124045',\n",
       "  'y': '35.8777808953246'},\n",
       " {'address_name': '경기 고양시 덕양구 동산동 370',\n",
       "  'category_group_code': '',\n",
       "  'category_group_name': '',\n",
       "  'category_name': '가정,생활 > 문구,사무용품 > 디자인문구 > 카카오프렌즈',\n",
       "  'distance': '',\n",
       "  'id': '1579610492',\n",
       "  'phone': '031-5173-1007',\n",
       "  'place_name': '카카오프렌즈 스타필드고양점',\n",
       "  'place_url': 'http://place.map.kakao.com/1579610492',\n",
       "  'road_address_name': '경기 고양시 덕양구 고양대로 1955',\n",
       "  'x': '126.893487134325',\n",
       "  'y': '37.6466363796872'},\n",
       " {'address_name': '경기 성남시 분당구 백현동 541',\n",
       "  'category_group_code': '',\n",
       "  'category_group_name': '',\n",
       "  'category_name': '가정,생활 > 문구,사무용품 > 디자인문구 > 카카오프렌즈',\n",
       "  'distance': '',\n",
       "  'id': '26944943',\n",
       "  'phone': '031-5170-2451',\n",
       "  'place_name': '카카오프렌즈 현대백화점판교점',\n",
       "  'place_url': 'http://place.map.kakao.com/26944943',\n",
       "  'road_address_name': '경기 성남시 분당구 판교역로146번길 20',\n",
       "  'x': '127.112385409653',\n",
       "  'y': '37.392202184912'},\n",
       " {'address_name': '경기 수원시 팔달구 매산로1가 18',\n",
       "  'category_group_code': '',\n",
       "  'category_group_name': '',\n",
       "  'category_name': '가정,생활 > 문구,사무용품 > 디자인문구 > 카카오프렌즈',\n",
       "  'distance': '',\n",
       "  'id': '108414597',\n",
       "  'phone': '031-240-1293',\n",
       "  'place_name': '카카오프렌즈 수원AK점',\n",
       "  'place_url': 'http://place.map.kakao.com/108414597',\n",
       "  'road_address_name': '경기 수원시 팔달구 덕영대로 924',\n",
       "  'x': '127.000685447575',\n",
       "  'y': '37.2655524309548'}]"
      ]
     },
     "execution_count": 17,
     "metadata": {},
     "output_type": "execute_result"
    }
   ],
   "source": [
    "data"
   ]
  },
  {
   "cell_type": "code",
   "execution_count": 21,
   "id": "3a742aa2",
   "metadata": {},
   "outputs": [
    {
     "data": {
      "text/plain": [
       "'http://place.map.kakao.com/653245473'"
      ]
     },
     "execution_count": 21,
     "metadata": {},
     "output_type": "execute_result"
    }
   ],
   "source": [
    "data[0]['id'] #이렇게 접근 가능\n",
    "data[0]['place_url']"
   ]
  },
  {
   "cell_type": "code",
   "execution_count": null,
   "id": "121e39f6",
   "metadata": {},
   "outputs": [],
   "source": []
  }
 ],
 "metadata": {
  "kernelspec": {
   "display_name": "Python 3 (ipykernel)",
   "language": "python",
   "name": "python3"
  },
  "language_info": {
   "codemirror_mode": {
    "name": "ipython",
    "version": 3
   },
   "file_extension": ".py",
   "mimetype": "text/x-python",
   "name": "python",
   "nbconvert_exporter": "python",
   "pygments_lexer": "ipython3",
   "version": "3.9.7"
  }
 },
 "nbformat": 4,
 "nbformat_minor": 5
}
