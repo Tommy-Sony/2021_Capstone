{
 "cells": [
  {
   "cell_type": "code",
   "execution_count": 18,
   "id": "84fed4cd",
   "metadata": {},
   "outputs": [],
   "source": [
    "import requests\n",
    "import os\n",
    "import json\n",
    "import re"
   ]
  },
  {
   "cell_type": "code",
   "execution_count": 2,
   "id": "e6aae9e8",
   "metadata": {},
   "outputs": [],
   "source": [
    "# To set your environment variables in your terminal run the following line:\n",
    "# export 'BEARER_TOKEN'='<your_bearer_token>'\n",
    "bearer_token = \"Bearer AAAAAAAAAAAAAAAAAAAAAJ1RTQEAAAAAPBN%2Bzfc3UK%2FzLXFheV64DBHcdxk%3DYXJow9bGTkeAnnhLqQ3IxyjOotHHbyvQM2nS2IOqnuzcZuRrhn\"\n",
    "\n",
    "search_url = \"https://api.twitter.com/2/tweets/search/recent\""
   ]
  },
  {
   "cell_type": "code",
   "execution_count": 3,
   "id": "81c90538",
   "metadata": {},
   "outputs": [
    {
     "name": "stdout",
     "output_type": "stream",
     "text": [
      "https://api.twitter.com/2/tweets/search/recent?query=%23승연아_우즈야_여기야 -RT&tweet.fields=author_id,created_at,geo,in_reply_to_user_id,lang,entities,possibly_sensitive,referenced_tweets,source&max_results=100\n",
      "\n"
     ]
    }
   ],
   "source": [
    "query=\"?query=\"\n",
    "keyword =\"%23승연아_우즈야_여기야\"\n",
    "option = \" -RT&tweet.fields=author_id,created_at,geo,in_reply_to_user_id,lang,entities,possibly_sensitive,referenced_tweets,source\"\n",
    "max_result = \"&max_results=100\"\n",
    "\n",
    "url = search_url + query + keyword + option + max_result\n",
    "#url = \"https://api.twitter.com/2/tweets/search/recent?query=%23승연아_우즈야_여기야 -RT&tweet.fields=author_id,created_at,geo,in_reply_to_user_id,lang,entities,possibly_sensitive,referenced_tweets,source&max_results=100\"\n",
    "print(url+\"\\n\")\n",
    "\n",
    "payload={}\n",
    "headers = {\n",
    "  'Authorization': bearer_token }\n",
    "\n",
    "#response = requests.request(\"GET\", url, headers=headers, data=payload)\n",
    "response = requests.get(url,headers=headers,data=payload)\n",
    "result=response.text"
   ]
  },
  {
   "cell_type": "code",
   "execution_count": 4,
   "id": "ad25fa95",
   "metadata": {},
   "outputs": [
    {
     "name": "stdout",
     "output_type": "stream",
     "text": [
      "{'data': [{'text': '대구 동성로\\n\\n📌 미진삼겹살\\n📌 카페 루시드 : 옥수수빙수\\n\\n미친놈이네.. ◠‿◠\\n\\n#맛있겠짛_주연앟 #ㄷㅂㅇㅈ\\n#여보세요_상연아_나_맛집이야_끊어\\n#승연아_우즈야_여기야 \\n#몬베베가_몬베베에게_추천하는_맛집\\n#아이유애냐미냐미\\n#미도리_여기_맛도리 https://t.co/MVyiyBPVql', 'source': 'Twitter for iPhone', 'id': '1456227986298966016', 'author_id': '1317727692079288320', 'created_at': '2021-11-04T11:53:01.000Z', 'possibly_sensitive': False, 'lang': 'ko', 'entities': {'hashtags': [{'start': 47, 'end': 56, 'tag': '맛있겠짛_주연앟'}, {'start': 57, 'end': 62, 'tag': 'ㄷㅂㅇㅈ'}, {'start': 63, 'end': 82, 'tag': '여보세요_상연아_나_맛집이야_끊어'}, {'start': 83, 'end': 95, 'tag': '승연아_우즈야_여기야'}, {'start': 97, 'end': 116, 'tag': '몬베베가_몬베베에게_추천하는_맛집'}, {'start': 117, 'end': 126, 'tag': '아이유애냐미냐미'}, {'start': 127, 'end': 138, 'tag': '미도리_여기_맛도리'}], 'urls': [{'start': 139, 'end': 162, 'url': 'https://t.co/MVyiyBPVql', 'expanded_url': 'https://twitter.com/accompany_jy/status/1456227986298966016/photo/1', 'display_url': 'pic.twitter.com/MVyiyBPVql'}, {'start': 139, 'end': 162, 'url': 'https://t.co/MVyiyBPVql', 'expanded_url': 'https://twitter.com/accompany_jy/status/1456227986298966016/photo/1', 'display_url': 'pic.twitter.com/MVyiyBPVql'}, {'start': 139, 'end': 162, 'url': 'https://t.co/MVyiyBPVql', 'expanded_url': 'https://twitter.com/accompany_jy/status/1456227986298966016/photo/1', 'display_url': 'pic.twitter.com/MVyiyBPVql'}, {'start': 139, 'end': 162, 'url': 'https://t.co/MVyiyBPVql', 'expanded_url': 'https://twitter.com/accompany_jy/status/1456227986298966016/photo/1', 'display_url': 'pic.twitter.com/MVyiyBPVql'}]}}, {'text': '#상상그이상의_맛집\\n#승연아_우즈야_여기야\\n#미도리_여기_맛도리\\n\\n동성로 맛집!!!!!!\\n🐷미진삽겹살\\n🍨카페 루시드\\n\\n오마이갓헤븐이즈히얼…\\n미진삼겹살 볶음밥 꼬옥 먹기..🤙🏻 https://t.co/NVdEGEPA0o', 'source': 'Twitter for iPhone', 'id': '1456215323162537986', 'author_id': '1334687405182308353', 'created_at': '2021-11-04T11:02:42.000Z', 'possibly_sensitive': False, 'lang': 'ko', 'entities': {'hashtags': [{'start': 0, 'end': 10, 'tag': '상상그이상의_맛집'}, {'start': 11, 'end': 23, 'tag': '승연아_우즈야_여기야'}, {'start': 24, 'end': 35, 'tag': '미도리_여기_맛도리'}], 'urls': [{'start': 98, 'end': 121, 'url': 'https://t.co/NVdEGEPA0o', 'expanded_url': 'https://twitter.com/dkdlelajgksh/status/1456215323162537986/photo/1', 'display_url': 'pic.twitter.com/NVdEGEPA0o'}, {'start': 98, 'end': 121, 'url': 'https://t.co/NVdEGEPA0o', 'expanded_url': 'https://twitter.com/dkdlelajgksh/status/1456215323162537986/photo/1', 'display_url': 'pic.twitter.com/NVdEGEPA0o'}]}}, {'text': '@d0odo0ng #승연아_우즈야_여기야 OR #황제를위한메뉴판 OR #강다니엘_염염긋 OR #백현이를_위한_맛집투어 OR #몬베베가_몬베베에게_추천하는_맛집 OR #민석이를_위한_카페투어 OR #먹어봤도영 OR #제노의_맛그당어 OR #재민아_밥먹어 OR #원데이식스밀 OR #병찬아_찜따_먹어봐 \"강남\"', 'source': 'Twitter for Android', 'id': '1456069210212233220', 'in_reply_to_user_id': '1332020635682279425', 'author_id': '1430179570850963469', 'entities': {'mentions': [{'start': 0, 'end': 9, 'username': 'd0odo0ng', 'id': '1332020635682279425'}], 'hashtags': [{'start': 10, 'end': 22, 'tag': '승연아_우즈야_여기야'}, {'start': 26, 'end': 35, 'tag': '황제를위한메뉴판'}, {'start': 39, 'end': 48, 'tag': '강다니엘_염염긋'}, {'start': 52, 'end': 65, 'tag': '백현이를_위한_맛집투어'}, {'start': 69, 'end': 88, 'tag': '몬베베가_몬베베에게_추천하는_맛집'}, {'start': 92, 'end': 105, 'tag': '민석이를_위한_카페투어'}, {'start': 109, 'end': 115, 'tag': '먹어봤도영'}, {'start': 119, 'end': 128, 'tag': '제노의_맛그당어'}, {'start': 132, 'end': 140, 'tag': '재민아_밥먹어'}, {'start': 144, 'end': 151, 'tag': '원데이식스밀'}, {'start': 155, 'end': 166, 'tag': '병찬아_찜따_먹어봐'}]}, 'created_at': '2021-11-04T01:22:06.000Z', 'possibly_sensitive': False, 'referenced_tweets': [{'type': 'replied_to', 'id': '1456067848388833280'}], 'lang': 'en'}, {'text': '#승연아_우즈야_여기야 or #백현이를_위한_맛집투어 or #황제님을위한메뉴판 or #강다니엘_염염긋 or #제노의_맛그당어  or #병곤아_이거_곤나맛있어 or  #산중호걸이라하는_호시의_식사시간되어', 'source': 'Twitter Web App', 'id': '1455934933763981312', 'author_id': '1398189131176439808', 'created_at': '2021-11-03T16:28:32.000Z', 'possibly_sensitive': False, 'lang': 'ro', 'entities': {'hashtags': [{'start': 0, 'end': 12, 'tag': '승연아_우즈야_여기야'}, {'start': 16, 'end': 29, 'tag': '백현이를_위한_맛집투어'}, {'start': 33, 'end': 43, 'tag': '황제님을위한메뉴판'}, {'start': 47, 'end': 56, 'tag': '강다니엘_염염긋'}, {'start': 60, 'end': 69, 'tag': '제노의_맛그당어'}, {'start': 74, 'end': 87, 'tag': '병곤아_이거_곤나맛있어'}, {'start': 92, 'end': 112, 'tag': '산중호걸이라하는_호시의_식사시간되어'}]}}, {'text': '#승연아_우즈야_여기야 \\n\\n망원 오스테리아 오라 🍽\\n\\n저도 다녀왔어요 망원맛집!!! 오라오라오라~~~ 개인적으로는 문어 오징어먹물파스타가 베스트메뉴였습니다... 굿🐙 https://t.co/HrI0VkC6yI', 'source': 'Twitter for iPhone', 'id': '1455921134101143552', 'author_id': '1389821110569426946', 'created_at': '2021-11-03T15:33:42.000Z', 'possibly_sensitive': False, 'lang': 'ko', 'entities': {'hashtags': [{'start': 0, 'end': 12, 'tag': '승연아_우즈야_여기야'}], 'urls': [{'start': 93, 'end': 116, 'url': 'https://t.co/HrI0VkC6yI', 'expanded_url': 'https://twitter.com/unpluggedb0y/status/1455921134101143552/photo/1', 'display_url': 'pic.twitter.com/HrI0VkC6yI'}, {'start': 93, 'end': 116, 'url': 'https://t.co/HrI0VkC6yI', 'expanded_url': 'https://twitter.com/unpluggedb0y/status/1455921134101143552/photo/1', 'display_url': 'pic.twitter.com/HrI0VkC6yI'}, {'start': 93, 'end': 116, 'url': 'https://t.co/HrI0VkC6yI', 'expanded_url': 'https://twitter.com/unpluggedb0y/status/1455921134101143552/photo/1', 'display_url': 'pic.twitter.com/HrI0VkC6yI'}, {'start': 93, 'end': 116, 'url': 'https://t.co/HrI0VkC6yI', 'expanded_url': 'https://twitter.com/unpluggedb0y/status/1455921134101143552/photo/1', 'display_url': 'pic.twitter.com/HrI0VkC6yI'}]}}, {'text': '송리단길 갓잇\\n\\n승연아 혹시 타코 좋아해......?\\nGod eat.. 진짜 개미쳣음\\n타코의 근본부터 맛볼 수 잇다.\\n원래 타코 먹을 때 좀 추잡스러워지자나\\n근데 여긴 ㅈㄴ 맛잇어서 추잡이고개잡이고 신경좃또.안쓰임 제발 가서 먹어봐...\\n난 담에 가면 칵테일이랑 먹을거임\\n\\n#승연아_우즈야_여기야 https://t.co/6XeVwSeBmc', 'source': 'Twitter for iPhone', 'id': '1455562687803322372', 'author_id': '1252947140445257728', 'created_at': '2021-11-02T15:49:22.000Z', 'possibly_sensitive': True, 'lang': 'ko', 'entities': {'hashtags': [{'start': 153, 'end': 165, 'tag': '승연아_우즈야_여기야'}], 'urls': [{'start': 166, 'end': 189, 'url': 'https://t.co/6XeVwSeBmc', 'expanded_url': 'https://twitter.com/woodzlikeyou/status/1455562687803322372/photo/1', 'display_url': 'pic.twitter.com/6XeVwSeBmc'}, {'start': 166, 'end': 189, 'url': 'https://t.co/6XeVwSeBmc', 'expanded_url': 'https://twitter.com/woodzlikeyou/status/1455562687803322372/photo/1', 'display_url': 'pic.twitter.com/6XeVwSeBmc'}]}}, {'text': '#승연아_우즈야_여기야\\n\\n #몬베베가_몬베베에게_추천하는_맛집\\n이거 두개는 진짜 믿을만해', 'source': 'Twitter for iPhone', 'id': '1455541279576711174', 'author_id': '1429261071173386242', 'created_at': '2021-11-02T14:24:18.000Z', 'possibly_sensitive': False, 'lang': 'ko', 'entities': {'hashtags': [{'start': 0, 'end': 12, 'tag': '승연아_우즈야_여기야'}, {'start': 15, 'end': 34, 'tag': '몬베베가_몬베베에게_추천하는_맛집'}]}}, {'text': '#승연아_우즈야_여기야\\n연남 야키토리 미식서울\\n\\n오마카세 코스 B 3.0\\n푸딩🍮 0.5\\n\\n꼬치류들은 당연히 맛있고! \\n특이하게 코스 주문 후 오천원을 추가하면 디저트로 푸딩을 주문할 수 있는데 일본인이 운영하셔서 그런가 현지와 정말 비슷한 맛이라 넘 좋았다 한국 기존 푸딩과 달리 치즈맛이 진함..♡ https://t.co/5iGnlKphp3', 'source': 'Twitter for Android', 'id': '1455537590162104340', 'author_id': '1248619485453365253', 'created_at': '2021-11-02T14:09:38.000Z', 'possibly_sensitive': False, 'lang': 'ko', 'entities': {'hashtags': [{'start': 0, 'end': 12, 'tag': '승연아_우즈야_여기야'}], 'urls': [{'start': 168, 'end': 191, 'url': 'https://t.co/5iGnlKphp3', 'expanded_url': 'https://twitter.com/ourpetlovesus/status/1455537590162104340/photo/1', 'display_url': 'pic.twitter.com/5iGnlKphp3'}, {'start': 168, 'end': 191, 'url': 'https://t.co/5iGnlKphp3', 'expanded_url': 'https://twitter.com/ourpetlovesus/status/1455537590162104340/photo/1', 'display_url': 'pic.twitter.com/5iGnlKphp3'}, {'start': 168, 'end': 191, 'url': 'https://t.co/5iGnlKphp3', 'expanded_url': 'https://twitter.com/ourpetlovesus/status/1455537590162104340/photo/1', 'display_url': 'pic.twitter.com/5iGnlKphp3'}, {'start': 168, 'end': 191, 'url': 'https://t.co/5iGnlKphp3', 'expanded_url': 'https://twitter.com/ourpetlovesus/status/1455537590162104340/photo/1', 'display_url': 'pic.twitter.com/5iGnlKphp3'}]}}, {'text': '@choiyoondoll #승연아_우즈야_여기야 OR #황제님을위한메뉴판 OR #강다니엘_염염긋 OR #백현이를_위한_맛집투어 OR #몬베베가_몬베베에게_추천하는_맛집 OR #민석이를_위한_카페투어 OR #먹어봤도영 OR #제노의_맛그당어 OR #재민아_밥먹어 OR #원데이식스밀 “”', 'source': 'Twitter for iPhone', 'id': '1455521975120523271', 'in_reply_to_user_id': '982648286803705857', 'author_id': '1894176174', 'entities': {'mentions': [{'start': 0, 'end': 13, 'username': 'choiyoondoll', 'id': '982648286803705857'}], 'hashtags': [{'start': 14, 'end': 26, 'tag': '승연아_우즈야_여기야'}, {'start': 30, 'end': 40, 'tag': '황제님을위한메뉴판'}, {'start': 44, 'end': 53, 'tag': '강다니엘_염염긋'}, {'start': 57, 'end': 70, 'tag': '백현이를_위한_맛집투어'}, {'start': 74, 'end': 93, 'tag': '몬베베가_몬베베에게_추천하는_맛집'}, {'start': 97, 'end': 110, 'tag': '민석이를_위한_카페투어'}, {'start': 114, 'end': 120, 'tag': '먹어봤도영'}, {'start': 124, 'end': 133, 'tag': '제노의_맛그당어'}, {'start': 137, 'end': 145, 'tag': '재민아_밥먹어'}, {'start': 149, 'end': 156, 'tag': '원데이식스밀'}]}, 'created_at': '2021-11-02T13:07:35.000Z', 'possibly_sensitive': False, 'referenced_tweets': [{'type': 'replied_to', 'id': '1455513142381867013'}], 'lang': 'ro'}, {'text': '#승연아_우즈야_여기야 OR #황제를위한메뉴판 OR #강다니엘_염염긋 OR #백현이를_위한_맛집투어 OR #몬베베가_몬베베에게_추천하는_맛집 OR #민석이를_위한_카페투어 OR #먹어봤도영 OR #제노의_맛그당어 OR #재민아_밥먹어 OR #원데이식스밀 , \"광안리”\\n\\n아시발 이거써치하래ㅋㅋ', 'source': 'Twitter for Android', 'id': '1455489230302367746', 'author_id': '1309449794247507968', 'created_at': '2021-11-02T10:57:28.000Z', 'possibly_sensitive': False, 'lang': 'ko', 'entities': {'hashtags': [{'start': 0, 'end': 12, 'tag': '승연아_우즈야_여기야'}, {'start': 16, 'end': 25, 'tag': '황제를위한메뉴판'}, {'start': 29, 'end': 38, 'tag': '강다니엘_염염긋'}, {'start': 42, 'end': 55, 'tag': '백현이를_위한_맛집투어'}, {'start': 59, 'end': 78, 'tag': '몬베베가_몬베베에게_추천하는_맛집'}, {'start': 82, 'end': 95, 'tag': '민석이를_위한_카페투어'}, {'start': 99, 'end': 105, 'tag': '먹어봤도영'}, {'start': 109, 'end': 118, 'tag': '제노의_맛그당어'}, {'start': 122, 'end': 130, 'tag': '재민아_밥먹어'}, {'start': 134, 'end': 141, 'tag': '원데이식스밀'}]}}, {'text': '#빈아_운동및식단_포기했다\\n#돌잔치_음식추천\\n#로하_이거먹으러_왔따나\\n#승연아_우즈야_여기야 \\n#황제를위한메뉴판 \\n#강다니엘_염염긋 \\n#백현이를_위한_맛집투어  #민석이를_위한_카페투어\\n#먹어봤도영 \\n#제노의_맛그당어\\n#재민아_밥먹어\\n#원데이식스밀 \\n#백현아_먹짱일기_적짱\\n#박지성_단1g도안줌', 'source': 'Twitter for Android', 'id': '1455070893625860097', 'in_reply_to_user_id': '2493171755', 'author_id': '2493171755', 'created_at': '2021-11-01T07:15:09.000Z', 'possibly_sensitive': False, 'referenced_tweets': [{'type': 'replied_to', 'id': '1455070891394494464'}], 'lang': 'und', 'entities': {'hashtags': [{'start': 0, 'end': 14, 'tag': '빈아_운동및식단_포기했다'}, {'start': 15, 'end': 24, 'tag': '돌잔치_음식추천'}, {'start': 25, 'end': 38, 'tag': '로하_이거먹으러_왔따나'}, {'start': 39, 'end': 51, 'tag': '승연아_우즈야_여기야'}, {'start': 53, 'end': 62, 'tag': '황제를위한메뉴판'}, {'start': 64, 'end': 73, 'tag': '강다니엘_염염긋'}, {'start': 75, 'end': 88, 'tag': '백현이를_위한_맛집투어'}, {'start': 90, 'end': 103, 'tag': '민석이를_위한_카페투어'}, {'start': 104, 'end': 110, 'tag': '먹어봤도영'}, {'start': 112, 'end': 121, 'tag': '제노의_맛그당어'}, {'start': 122, 'end': 130, 'tag': '재민아_밥먹어'}, {'start': 131, 'end': 138, 'tag': '원데이식스밀'}, {'start': 140, 'end': 152, 'tag': '백현아_먹짱일기_적짱'}, {'start': 153, 'end': 164, 'tag': '박지성_단1g도안줌'}]}}, {'text': '#백현이를_위한_맛집투어\\n#승연아_우즈야_여기야\\n#몬베베가_몬베베에게_추천하는_맛집\\n#이_식당은_진심으로_하늘이에요\\n#백현아_먹짱일기_적짱\\n#박지성_단1g도안줌\\n#제노의_맛그당어', 'source': 'Twitter for iPhone', 'id': '1455049511433211907', 'author_id': '1408115478954795012', 'created_at': '2021-11-01T05:50:11.000Z', 'possibly_sensitive': False, 'lang': 'und', 'entities': {'hashtags': [{'start': 0, 'end': 13, 'tag': '백현이를_위한_맛집투어'}, {'start': 14, 'end': 26, 'tag': '승연아_우즈야_여기야'}, {'start': 27, 'end': 46, 'tag': '몬베베가_몬베베에게_추천하는_맛집'}, {'start': 47, 'end': 64, 'tag': '이_식당은_진심으로_하늘이에요'}, {'start': 65, 'end': 77, 'tag': '백현아_먹짱일기_적짱'}, {'start': 78, 'end': 89, 'tag': '박지성_단1g도안줌'}, {'start': 90, 'end': 99, 'tag': '제노의_맛그당어'}]}}, {'text': '#승연아_우즈야_여기야\\n#순영아_이거_맛있어\\n여의도 오츠츠\\n여의도에서 퀄좋은 그릭요커트볼을 먹을수있는곳 L사이즈에 토핑5가지 추가해먹을수 있는데 양이엄청만고ㅜ마싯어요 https://t.co/LBqSBbpWDu', 'source': 'Twitter for Android', 'id': '1455032517489164291', 'author_id': '1279074604972036097', 'created_at': '2021-11-01T04:42:40.000Z', 'possibly_sensitive': False, 'lang': 'ko', 'entities': {'hashtags': [{'start': 0, 'end': 12, 'tag': '승연아_우즈야_여기야'}, {'start': 13, 'end': 24, 'tag': '순영아_이거_맛있어'}], 'urls': [{'start': 93, 'end': 116, 'url': 'https://t.co/LBqSBbpWDu', 'expanded_url': 'https://twitter.com/sukii_dana/status/1455032517489164291/photo/1', 'display_url': 'pic.twitter.com/LBqSBbpWDu'}]}}, {'text': '#승연아_우즈야_여기야\\n\\n연남 올랑올랑 🍣\\n\\n연어가 잔뜩 있는 연어맛집!!!\\n\\n연어가 거의 모든 요리의 메인이고 계속 먹으면 물릴까봐 소바 시켰는데 완전 딱이었음 !!\\n맛있어서 여러개 주문하고 배터질때까지 먹었다네요~🤤💗\\n또 가고싶다  ... https://t.co/L0UVnAlv3L', 'source': 'Twitter for iPhone', 'id': '1454815914499588097', 'author_id': '1235190848377085953', 'created_at': '2021-10-31T14:21:57.000Z', 'possibly_sensitive': False, 'lang': 'ko', 'entities': {'hashtags': [{'start': 0, 'end': 12, 'tag': '승연아_우즈야_여기야'}], 'urls': [{'start': 136, 'end': 159, 'url': 'https://t.co/L0UVnAlv3L', 'expanded_url': 'https://twitter.com/fox_dnwm/status/1454815914499588097/photo/1', 'display_url': 'pic.twitter.com/L0UVnAlv3L'}, {'start': 136, 'end': 159, 'url': 'https://t.co/L0UVnAlv3L', 'expanded_url': 'https://twitter.com/fox_dnwm/status/1454815914499588097/photo/1', 'display_url': 'pic.twitter.com/L0UVnAlv3L'}, {'start': 136, 'end': 159, 'url': 'https://t.co/L0UVnAlv3L', 'expanded_url': 'https://twitter.com/fox_dnwm/status/1454815914499588097/photo/1', 'display_url': 'pic.twitter.com/L0UVnAlv3L'}, {'start': 136, 'end': 159, 'url': 'https://t.co/L0UVnAlv3L', 'expanded_url': 'https://twitter.com/fox_dnwm/status/1454815914499588097/photo/1', 'display_url': 'pic.twitter.com/L0UVnAlv3L'}]}}, {'text': '전포 도토리다방\\n아이스크림 와플\\n트로피칼소다\\n메론소다\\n채광 잘 드는 카페를 찾는다면 바로 여기🤤\\n\\n#승연아_우즈야_여기야 https://t.co/1lHk2LbKHh', 'source': 'Twitter for iPhone', 'id': '1454808053920899081', 'author_id': '1451957793678790657', 'created_at': '2021-10-31T13:50:43.000Z', 'possibly_sensitive': False, 'lang': 'ko', 'entities': {'hashtags': [{'start': 55, 'end': 67, 'tag': '승연아_우즈야_여기야'}], 'urls': [{'start': 68, 'end': 91, 'url': 'https://t.co/1lHk2LbKHh', 'expanded_url': 'https://twitter.com/danbi_85/status/1454808053920899081/photo/1', 'display_url': 'pic.twitter.com/1lHk2LbKHh'}, {'start': 68, 'end': 91, 'url': 'https://t.co/1lHk2LbKHh', 'expanded_url': 'https://twitter.com/danbi_85/status/1454808053920899081/photo/1', 'display_url': 'pic.twitter.com/1lHk2LbKHh'}, {'start': 68, 'end': 91, 'url': 'https://t.co/1lHk2LbKHh', 'expanded_url': 'https://twitter.com/danbi_85/status/1454808053920899081/photo/1', 'display_url': 'pic.twitter.com/1lHk2LbKHh'}, {'start': 68, 'end': 91, 'url': 'https://t.co/1lHk2LbKHh', 'expanded_url': 'https://twitter.com/danbi_85/status/1454808053920899081/photo/1', 'display_url': 'pic.twitter.com/1lHk2LbKHh'}]}}, {'text': '광안리 녹아내려\\n커스터드 파이..🤤\\n디저트가 맛있고 홍차도 맛있어요\\n디카페인 홍차도 있어서 카페인 쓰레기 단비도 먹고 꿀잠 잠!!\\n\\n#승연아_우즈야_여기야 https://t.co/WqusncT9tU', 'source': 'Twitter for iPhone', 'id': '1454807934551015444', 'author_id': '1451957793678790657', 'created_at': '2021-10-31T13:50:15.000Z', 'possibly_sensitive': False, 'lang': 'ko', 'entities': {'hashtags': [{'start': 74, 'end': 86, 'tag': '승연아_우즈야_여기야'}], 'urls': [{'start': 87, 'end': 110, 'url': 'https://t.co/WqusncT9tU', 'expanded_url': 'https://twitter.com/danbi_85/status/1454807934551015444/photo/1', 'display_url': 'pic.twitter.com/WqusncT9tU'}]}}, {'text': '📍서촌 - 오무사\\n비오는 날 야외 테라스\\n비가 오는 날엔 부르는 승연이 보면서 와인🍷🫒\\n\\n#ㅈㅅㅇㅇㅈ #승연아_우즈야_여기야 https://t.co/r09KRo0Ea8', 'source': 'Twitter for iPhone', 'id': '1454788863017185287', 'author_id': '1222121985896902659', 'created_at': '2021-10-31T12:34:28.000Z', 'possibly_sensitive': False, 'lang': 'ko', 'entities': {'hashtags': [{'start': 50, 'end': 56, 'tag': 'ㅈㅅㅇㅇㅈ'}, {'start': 57, 'end': 69, 'tag': '승연아_우즈야_여기야'}], 'urls': [{'start': 70, 'end': 93, 'url': 'https://t.co/r09KRo0Ea8', 'expanded_url': 'https://twitter.com/closetowoodz/status/1454788863017185287/video/1', 'display_url': 'pic.twitter.com/r09KRo0Ea8'}]}}, {'text': '🍝 혜화 128pan\\n정말 나만 알고 싶은데 맛있어서 진짜 특별히 공유함 ^^... 재방문 진짜 절대 하고 싶고 예약은 필수임 풍기(버섯)리조또랑 마레파스타 시켰는데 둘 다 개맛있음 저 빵 위에 파스타 얹어 먹으면 그냥 극락... ㅠ\\n\\n#승연아_우즈야_여기야 https://t.co/OL5hfiaHmI', 'source': 'Twitter for iPhone', 'id': '1454787841725063187', 'author_id': '741666744402464768', 'created_at': '2021-10-31T12:30:24.000Z', 'possibly_sensitive': False, 'lang': 'ko', 'entities': {'hashtags': [{'start': 132, 'end': 144, 'tag': '승연아_우즈야_여기야'}], 'urls': [{'start': 145, 'end': 168, 'url': 'https://t.co/OL5hfiaHmI', 'expanded_url': 'https://twitter.com/yournanatime/status/1454787841725063187/photo/1', 'display_url': 'pic.twitter.com/OL5hfiaHmI'}]}}, {'text': '☕️ 혜화 블루문\\n분위기 좋은 카페... 아인슈페너(0.6)은 조금 쓰대요 딸기라떼(0.6)은 괜찮았음! 엘피로 노래를 틀어주셔서 조용조용 얘기하기 좋음 치즈케이크가 유명하다네요\\n\\n#승연아_우즈야_여기야 https://t.co/LNz2wDcnSb', 'source': 'Twitter for iPhone', 'id': '1454787148830232580', 'author_id': '741666744402464768', 'created_at': '2021-10-31T12:27:39.000Z', 'possibly_sensitive': False, 'lang': 'ko', 'entities': {'hashtags': [{'start': 101, 'end': 113, 'tag': '승연아_우즈야_여기야'}], 'urls': [{'start': 114, 'end': 137, 'url': 'https://t.co/LNz2wDcnSb', 'expanded_url': 'https://twitter.com/yournanatime/status/1454787148830232580/photo/1', 'display_url': 'pic.twitter.com/LNz2wDcnSb'}, {'start': 114, 'end': 137, 'url': 'https://t.co/LNz2wDcnSb', 'expanded_url': 'https://twitter.com/yournanatime/status/1454787148830232580/photo/1', 'display_url': 'pic.twitter.com/LNz2wDcnSb'}, {'start': 114, 'end': 137, 'url': 'https://t.co/LNz2wDcnSb', 'expanded_url': 'https://twitter.com/yournanatime/status/1454787148830232580/photo/1', 'display_url': 'pic.twitter.com/LNz2wDcnSb'}, {'start': 114, 'end': 137, 'url': 'https://t.co/LNz2wDcnSb', 'expanded_url': 'https://twitter.com/yournanatime/status/1454787148830232580/photo/1', 'display_url': 'pic.twitter.com/LNz2wDcnSb'}]}}, {'text': '📍을지로 을지깐깐\\n\\n게살국수\\n공심채볶음밥\\n수제 짜조\\n\\n웨이팅있다는거 같은데 어쩌다 첫 손님으로 들어가서 싹싹 비우고옴\\n식기나 액자들 베트남에서 공수해오셨다는데 그래서인지 인테리어도 엄청 신경쓰신 느낌이남! 재방문의사 완전 있음! 다른 메뉴도 먹어보고 싶다 😋\\n#승연아_우즈야_여기야 https://t.co/CpEabxXyeT', 'source': 'Twitter for iPhone', 'id': '1454776192284823558', 'author_id': '1246271752658800641', 'created_at': '2021-10-31T11:44:07.000Z', 'possibly_sensitive': True, 'lang': 'ko', 'entities': {'hashtags': [{'start': 145, 'end': 157, 'tag': '승연아_우즈야_여기야'}], 'urls': [{'start': 158, 'end': 181, 'url': 'https://t.co/CpEabxXyeT', 'expanded_url': 'https://twitter.com/forestmoon0805/status/1454776192284823558/photo/1', 'display_url': 'pic.twitter.com/CpEabxXyeT'}]}}, {'text': '커스텀칵테일로 유명한 홍대 비터스 나두 다녀왔다아아 ( *ฅ́˘ฅ̀*)\\n\\n여성전용이라 스녀니는 못가지만 해시태그는 좀 쓸게 쿄쿄쿜\\n\\n#승연아_우즈야_여기야 https://t.co/kcxMb8zRiX', 'source': 'Twitter for iPhone', 'id': '1454765434348052481', 'author_id': '1181160806051794944', 'created_at': '2021-10-31T11:01:22.000Z', 'possibly_sensitive': False, 'lang': 'ko', 'entities': {'hashtags': [{'start': 74, 'end': 86, 'tag': '승연아_우즈야_여기야'}], 'urls': [{'start': 87, 'end': 110, 'url': 'https://t.co/kcxMb8zRiX', 'expanded_url': 'https://twitter.com/lsnt_he_lovely/status/1454765434348052481/photo/1', 'display_url': 'pic.twitter.com/kcxMb8zRiX'}, {'start': 87, 'end': 110, 'url': 'https://t.co/kcxMb8zRiX', 'expanded_url': 'https://twitter.com/lsnt_he_lovely/status/1454765434348052481/photo/1', 'display_url': 'pic.twitter.com/kcxMb8zRiX'}]}}, {'text': '바질 파스타 너무 좋아🧡💙\\n오리엔탈 파스타도 콜드 파스타라\\n따듯한 야채파니니 메뉴도 하나 더 했는데\\n고기 안들어갔다고??라 맛 의심해서 미안\\n샐러드 안에 통피스타치오까지 취향범벅임 \\n모르고 갔는데 오앤블템!! 무즈운명 인정😎\\n\\n📍살살솔트앤샐러드\\n#한성대입구맛집\\n#승연아_우즈야_여기야 https://t.co/92wB5ttfGu', 'source': 'Twitter for iPhone', 'id': '1454712515674337289', 'author_id': '1372429469319720963', 'created_at': '2021-10-31T07:31:05.000Z', 'possibly_sensitive': False, 'lang': 'ko', 'entities': {'hashtags': [{'start': 137, 'end': 145, 'tag': '한성대입구맛집'}, {'start': 146, 'end': 158, 'tag': '승연아_우즈야_여기야'}], 'urls': [{'start': 159, 'end': 182, 'url': 'https://t.co/92wB5ttfGu', 'expanded_url': 'https://twitter.com/_newoodz/status/1454712515674337289/photo/1', 'display_url': 'pic.twitter.com/92wB5ttfGu'}, {'start': 159, 'end': 182, 'url': 'https://t.co/92wB5ttfGu', 'expanded_url': 'https://twitter.com/_newoodz/status/1454712515674337289/photo/1', 'display_url': 'pic.twitter.com/92wB5ttfGu'}, {'start': 159, 'end': 182, 'url': 'https://t.co/92wB5ttfGu', 'expanded_url': 'https://twitter.com/_newoodz/status/1454712515674337289/photo/1', 'display_url': 'pic.twitter.com/92wB5ttfGu'}, {'start': 159, 'end': 182, 'url': 'https://t.co/92wB5ttfGu', 'expanded_url': 'https://twitter.com/_newoodz/status/1454712515674337289/photo/1', 'display_url': 'pic.twitter.com/92wB5ttfGu'}]}}, {'text': '연남 메리고라운드🧸\\n\\n진짜 너무너무 귀여웠음 ㅠㅁㅠ\\n최애가 곰돌이로 모에화 된다? 무조건 가세요..\\n오늘 할로윈이라 컵케이크에 호박마시멜로 올려주셨는데 에바 존나 귀여움 ㅠㅠ🤍🎃\\n맛은 평타치는데 보는 눈이 즐거워서 백점만점에 오백점인 카페!!🧸🧁🤍🎃💛\\n\\n#승연아_우즈야_여기야 https://t.co/GjybVaF8JK', 'source': 'Twitter for iPhone', 'id': '1454695697349955588', 'author_id': '1252947140445257728', 'created_at': '2021-10-31T06:24:15.000Z', 'possibly_sensitive': True, 'lang': 'ko', 'entities': {'hashtags': [{'start': 142, 'end': 154, 'tag': '승연아_우즈야_여기야'}], 'urls': [{'start': 155, 'end': 178, 'url': 'https://t.co/GjybVaF8JK', 'expanded_url': 'https://twitter.com/woodzlikeyou/status/1454695697349955588/photo/1', 'display_url': 'pic.twitter.com/GjybVaF8JK'}, {'start': 155, 'end': 178, 'url': 'https://t.co/GjybVaF8JK', 'expanded_url': 'https://twitter.com/woodzlikeyou/status/1454695697349955588/photo/1', 'display_url': 'pic.twitter.com/GjybVaF8JK'}, {'start': 155, 'end': 178, 'url': 'https://t.co/GjybVaF8JK', 'expanded_url': 'https://twitter.com/woodzlikeyou/status/1454695697349955588/photo/1', 'display_url': 'pic.twitter.com/GjybVaF8JK'}, {'start': 155, 'end': 178, 'url': 'https://t.co/GjybVaF8JK', 'expanded_url': 'https://twitter.com/woodzlikeyou/status/1454695697349955588/photo/1', 'display_url': 'pic.twitter.com/GjybVaF8JK'}]}}, {'text': '#승연아_우즈야_여기야\\n경주 황리단길 분식\\n해피치즈스마일\\n돈까스 플레이트 추천요~ \\n안심이 아주 살살 녹아요 https://t.co/JzJoO1yx6P', 'source': 'Twitter for Android', 'id': '1454684005006123020', 'author_id': '1154246446884913154', 'created_at': '2021-10-31T05:37:48.000Z', 'possibly_sensitive': True, 'lang': 'ko', 'entities': {'hashtags': [{'start': 0, 'end': 12, 'tag': '승연아_우즈야_여기야'}], 'urls': [{'start': 61, 'end': 84, 'url': 'https://t.co/JzJoO1yx6P', 'expanded_url': 'https://twitter.com/bbssy3/status/1454684005006123020/photo/1', 'display_url': 'pic.twitter.com/JzJoO1yx6P'}, {'start': 61, 'end': 84, 'url': 'https://t.co/JzJoO1yx6P', 'expanded_url': 'https://twitter.com/bbssy3/status/1454684005006123020/photo/1', 'display_url': 'pic.twitter.com/JzJoO1yx6P'}]}}, {'text': '#승연아_우즈야_여기야\\n모짜렐라 치즈 듬뿍\\n경주 황리단길 경주십원빵\\n다보탑이 뒤에 있는 10원 모양빵 https://t.co/f2S0r1gBU1', 'source': 'Twitter for Android', 'id': '1454683289575301120', 'author_id': '1154246446884913154', 'created_at': '2021-10-31T05:34:57.000Z', 'possibly_sensitive': True, 'lang': 'ko', 'entities': {'hashtags': [{'start': 0, 'end': 12, 'tag': '승연아_우즈야_여기야'}], 'urls': [{'start': 57, 'end': 80, 'url': 'https://t.co/f2S0r1gBU1', 'expanded_url': 'https://twitter.com/bbssy3/status/1454683289575301120/photo/1', 'display_url': 'pic.twitter.com/f2S0r1gBU1'}, {'start': 57, 'end': 80, 'url': 'https://t.co/f2S0r1gBU1', 'expanded_url': 'https://twitter.com/bbssy3/status/1454683289575301120/photo/1', 'display_url': 'pic.twitter.com/f2S0r1gBU1'}]}}, {'text': '#승연아_우즈야_여기야\\n경주 황리단길 주전부리 \\n쫀드기 튀김 🍟황남쫀드기\\n매콤한 맛은 살짝 매콤하고 달고 쫀득함\\n오리지널도 맛있음\\n맥주를 부르는 맛이지만 운전때문에 쫀맥 한 잔 못한게 아쉽 https://t.co/aroHSVSUX5', 'source': 'Twitter for Android', 'id': '1454682362709626887', 'author_id': '1154246446884913154', 'created_at': '2021-10-31T05:31:16.000Z', 'possibly_sensitive': True, 'lang': 'ko', 'entities': {'hashtags': [{'start': 0, 'end': 12, 'tag': '승연아_우즈야_여기야'}], 'urls': [{'start': 106, 'end': 129, 'url': 'https://t.co/aroHSVSUX5', 'expanded_url': 'https://twitter.com/bbssy3/status/1454682362709626887/photo/1', 'display_url': 'pic.twitter.com/aroHSVSUX5'}, {'start': 106, 'end': 129, 'url': 'https://t.co/aroHSVSUX5', 'expanded_url': 'https://twitter.com/bbssy3/status/1454682362709626887/photo/1', 'display_url': 'pic.twitter.com/aroHSVSUX5'}]}}, {'text': '#승연아_우즈야_여기야\\n\\n🍽 연남동 연어롭다\\n\\n생연어모듬 &amp; 명란로제파스타 🧡\\n내가 초밥을 안먹어서 그런지 연어초밥은 그냥 그랬는데 사시미랑 타다끼는 진짜 맛있었다 ! 대부분이 명란로제랑 같이 시켜 먹는 것 같아서 나도 시켜봤는데 조합이 좋았다 연어 한입 먹고 씻은김치 한입 먹으면 환상 ❤️\\u200d🔥 https://t.co/TyIXzFRcdm', 'source': 'Twitter for iPhone', 'id': '1454465204608135173', 'author_id': '1221820467645861888', 'created_at': '2021-10-30T15:08:22.000Z', 'possibly_sensitive': True, 'lang': 'ko', 'entities': {'hashtags': [{'start': 0, 'end': 12, 'tag': '승연아_우즈야_여기야'}], 'urls': [{'start': 170, 'end': 193, 'url': 'https://t.co/TyIXzFRcdm', 'expanded_url': 'https://twitter.com/chowzs2/status/1454465204608135173/photo/1', 'display_url': 'pic.twitter.com/TyIXzFRcdm'}, {'start': 170, 'end': 193, 'url': 'https://t.co/TyIXzFRcdm', 'expanded_url': 'https://twitter.com/chowzs2/status/1454465204608135173/photo/1', 'display_url': 'pic.twitter.com/TyIXzFRcdm'}, {'start': 170, 'end': 193, 'url': 'https://t.co/TyIXzFRcdm', 'expanded_url': 'https://twitter.com/chowzs2/status/1454465204608135173/photo/1', 'display_url': 'pic.twitter.com/TyIXzFRcdm'}]}}, {'text': '#승연아_우즈야_여기야\\n\\n❗연남 월량관\\n\\n중국음식하면 짜장면 마라탕만 생각하던 나를 죽이고싶음 샤오룽바오&lt;이새끼 진심 또라이처럼 맛있음 우육탕면도 컵라면만 쳐먹던 나를 반성시키는 맛 저 무슨 만두같은거도 너무 마시따 만두류가 진심 맛도리인듯 https://t.co/MwOzr29vM5', 'source': 'Twitter for Android', 'id': '1454417786030080010', 'author_id': '1353642104661020672', 'created_at': '2021-10-30T11:59:56.000Z', 'possibly_sensitive': False, 'lang': 'ko', 'entities': {'hashtags': [{'start': 0, 'end': 12, 'tag': '승연아_우즈야_여기야'}], 'urls': [{'start': 138, 'end': 161, 'url': 'https://t.co/MwOzr29vM5', 'expanded_url': 'https://twitter.com/hamsclub/status/1454417786030080010/photo/1', 'display_url': 'pic.twitter.com/MwOzr29vM5'}, {'start': 138, 'end': 161, 'url': 'https://t.co/MwOzr29vM5', 'expanded_url': 'https://twitter.com/hamsclub/status/1454417786030080010/photo/1', 'display_url': 'pic.twitter.com/MwOzr29vM5'}, {'start': 138, 'end': 161, 'url': 'https://t.co/MwOzr29vM5', 'expanded_url': 'https://twitter.com/hamsclub/status/1454417786030080010/photo/1', 'display_url': 'pic.twitter.com/MwOzr29vM5'}, {'start': 138, 'end': 161, 'url': 'https://t.co/MwOzr29vM5', 'expanded_url': 'https://twitter.com/hamsclub/status/1454417786030080010/photo/1', 'display_url': 'pic.twitter.com/MwOzr29vM5'}]}}, {'text': '#승연아_우즈야_여기야\\n\\n🍤부산대 텐동코하루🥢\\n난 기본텐동에 계란추가👍\\n텐동 메뉴 다양하고\\n장어,새우,명란 등등 추가 가능😉\\n같이 나오는 라멘국물(?)도 맛나용😋 https://t.co/HbgqqnrVXF', 'source': 'Twitter for iPhone', 'id': '1454324345799536644', 'author_id': '2184503119', 'created_at': '2021-10-30T05:48:38.000Z', 'possibly_sensitive': False, 'lang': 'ko', 'entities': {'hashtags': [{'start': 0, 'end': 12, 'tag': '승연아_우즈야_여기야'}], 'urls': [{'start': 91, 'end': 114, 'url': 'https://t.co/HbgqqnrVXF', 'expanded_url': 'https://twitter.com/woodz_mong/status/1454324345799536644/photo/1', 'display_url': 'pic.twitter.com/HbgqqnrVXF'}, {'start': 91, 'end': 114, 'url': 'https://t.co/HbgqqnrVXF', 'expanded_url': 'https://twitter.com/woodz_mong/status/1454324345799536644/photo/1', 'display_url': 'pic.twitter.com/HbgqqnrVXF'}, {'start': 91, 'end': 114, 'url': 'https://t.co/HbgqqnrVXF', 'expanded_url': 'https://twitter.com/woodz_mong/status/1454324345799536644/photo/1', 'display_url': 'pic.twitter.com/HbgqqnrVXF'}]}}, {'text': '밍밍아 집에 가자 \\n소세지빵은 안데워줘서 걍 그랬고\\n너티클라우드 언제 마셔도 대존맛\\n도렐 서울 매장은 성수만 남았나봄\\n\\n📍도렐커피\\n#제주카페\\n#승연아_우즈야_여기야 \\n\\n죽여줘...중인 앞포켓 버클 이제 봤네 https://t.co/bt360tif4X', 'source': 'Twitter for iPhone', 'id': '1454283371983507460', 'author_id': '1372429469319720963', 'created_at': '2021-10-30T03:05:49.000Z', 'possibly_sensitive': False, 'lang': 'ko', 'entities': {'hashtags': [{'start': 73, 'end': 78, 'tag': '제주카페'}, {'start': 79, 'end': 91, 'tag': '승연아_우즈야_여기야'}], 'urls': [{'start': 116, 'end': 139, 'url': 'https://t.co/bt360tif4X', 'expanded_url': 'https://twitter.com/_newoodz/status/1454283371983507460/photo/1', 'display_url': 'pic.twitter.com/bt360tif4X'}, {'start': 116, 'end': 139, 'url': 'https://t.co/bt360tif4X', 'expanded_url': 'https://twitter.com/_newoodz/status/1454283371983507460/photo/1', 'display_url': 'pic.twitter.com/bt360tif4X'}, {'start': 116, 'end': 139, 'url': 'https://t.co/bt360tif4X', 'expanded_url': 'https://twitter.com/_newoodz/status/1454283371983507460/photo/1', 'display_url': 'pic.twitter.com/bt360tif4X'}]}}, {'text': '@malang_bokkk_ #승연아_우즈야_여기야', 'source': 'Twitter Web App', 'id': '1454097961546235904', 'in_reply_to_user_id': '1256963084528136193', 'author_id': '1446788967349698560', 'entities': {'mentions': [{'start': 0, 'end': 14, 'username': 'malang_bokkk_', 'id': '1256963084528136193'}], 'hashtags': [{'start': 15, 'end': 27, 'tag': '승연아_우즈야_여기야'}]}, 'created_at': '2021-10-29T14:49:04.000Z', 'possibly_sensitive': False, 'referenced_tweets': [{'type': 'replied_to', 'id': '1454097660495814663'}], 'lang': 'und'}], 'meta': {'newest_id': '1456227986298966016', 'oldest_id': '1454097961546235904', 'result_count': 31}}\n"
     ]
    }
   ],
   "source": [
    "result_json=response.json()\n",
    "print(result_json)"
   ]
  },
  {
   "cell_type": "code",
   "execution_count": 5,
   "id": "42ce6f69",
   "metadata": {},
   "outputs": [],
   "source": [
    "with open('tweet_search.json', 'w', encoding='UTF-8-sig') as json_file:\n",
    "    json.dump(result_json, json_file,ensure_ascii=False)"
   ]
  },
  {
   "cell_type": "code",
   "execution_count": 7,
   "id": "dddbd640",
   "metadata": {},
   "outputs": [],
   "source": [
    "data = json.loads(result)"
   ]
  },
  {
   "cell_type": "code",
   "execution_count": 8,
   "id": "547826fc",
   "metadata": {},
   "outputs": [],
   "source": [
    "#print(user['name'])\n",
    "#address = user['address']\n",
    "#print(address)\n",
    "tweet = data['data']\n"
   ]
  },
  {
   "cell_type": "code",
   "execution_count": 21,
   "id": "55c61a71",
   "metadata": {},
   "outputs": [
    {
     "name": "stdout",
     "output_type": "stream",
     "text": [
      "☕️ 혜화 블루문\n",
      "분위기 좋은 카페... 아인슈페너(0.6)은 조금 쓰대요 딸기라떼(0.6)은 괜찮았음! 엘피로 노래를 틀어주셔서 조용조용 얘기하기 좋음 치즈케이크가 유명하다네요\n",
      "\n",
      "#승연아_우즈야_여기야 https://t.co/LNz2wDcnSb\n"
     ]
    }
   ],
   "source": [
    "test_text=tweet[18]['text'] #이렇게 접근 \n",
    "print(test_text)"
   ]
  },
  {
   "cell_type": "code",
   "execution_count": 58,
   "id": "cfcf840a",
   "metadata": {},
   "outputs": [
    {
     "name": "stdout",
     "output_type": "stream",
     "text": [
      "대구 동성로\n",
      "\n",
      "📌 미진삼겹살\n",
      "📌 카페 루시드 : 옥수수빙수\n",
      "\n",
      "미친놈이네.. ◠‿◠\n",
      "\n",
      "#맛있겠짛_주연앟 #ㄷㅂㅇㅈ\n",
      "#여보세요_상연아_나_맛집이야_끊어\n",
      "#승연아_우즈야_여기야 \n",
      "#몬베베가_몬베베에게_추천하는_맛집\n",
      "#아이유애냐미냐미\n",
      "#미도리_여기_맛도리 https://t.co/MVyiyBPVql\n",
      "============================\n",
      "#상상그이상의_맛집\n",
      "#승연아_우즈야_여기야\n",
      "#미도리_여기_맛도리\n",
      "\n",
      "동성로 맛집!!!!!!\n",
      "🐷미진삽겹살\n",
      "🍨카페 루시드\n",
      "\n",
      "오마이갓헤븐이즈히얼…\n",
      "미진삼겹살 볶음밥 꼬옥 먹기..🤙🏻 https://t.co/NVdEGEPA0o\n",
      "============================\n",
      "@d0odo0ng #승연아_우즈야_여기야 OR #황제를위한메뉴판 OR #강다니엘_염염긋 OR #백현이를_위한_맛집투어 OR #몬베베가_몬베베에게_추천하는_맛집 OR #민석이를_위한_카페투어 OR #먹어봤도영 OR #제노의_맛그당어 OR #재민아_밥먹어 OR #원데이식스밀 OR #병찬아_찜따_먹어봐 \"강남\"\n",
      "============================\n",
      "#승연아_우즈야_여기야 or #백현이를_위한_맛집투어 or #황제님을위한메뉴판 or #강다니엘_염염긋 or #제노의_맛그당어  or #병곤아_이거_곤나맛있어 or  #산중호걸이라하는_호시의_식사시간되어\n",
      "============================\n",
      "#승연아_우즈야_여기야 \n",
      "\n",
      "망원 오스테리아 오라 🍽\n",
      "\n",
      "저도 다녀왔어요 망원맛집!!! 오라오라오라~~~ 개인적으로는 문어 오징어먹물파스타가 베스트메뉴였습니다... 굿🐙 https://t.co/HrI0VkC6yI\n",
      "============================\n",
      "송리단길 갓잇\n",
      "\n",
      "승연아 혹시 타코 좋아해......?\n",
      "God eat.. 진짜 개미쳣음\n",
      "타코의 근본부터 맛볼 수 잇다.\n",
      "원래 타코 먹을 때 좀 추잡스러워지자나\n",
      "근데 여긴 ㅈㄴ 맛잇어서 추잡이고개잡이고 신경좃또.안쓰임 제발 가서 먹어봐...\n",
      "난 담에 가면 칵테일이랑 먹을거임\n",
      "\n",
      "#승연아_우즈야_여기야 https://t.co/6XeVwSeBmc\n",
      "============================\n",
      "#승연아_우즈야_여기야\n",
      "\n",
      " #몬베베가_몬베베에게_추천하는_맛집\n",
      "이거 두개는 진짜 믿을만해\n",
      "============================\n",
      "#승연아_우즈야_여기야\n",
      "연남 야키토리 미식서울\n",
      "\n",
      "오마카세 코스 B 3.0\n",
      "푸딩🍮 0.5\n",
      "\n",
      "꼬치류들은 당연히 맛있고! \n",
      "특이하게 코스 주문 후 오천원을 추가하면 디저트로 푸딩을 주문할 수 있는데 일본인이 운영하셔서 그런가 현지와 정말 비슷한 맛이라 넘 좋았다 한국 기존 푸딩과 달리 치즈맛이 진함..♡ https://t.co/5iGnlKphp3\n",
      "============================\n",
      "@choiyoondoll #승연아_우즈야_여기야 OR #황제님을위한메뉴판 OR #강다니엘_염염긋 OR #백현이를_위한_맛집투어 OR #몬베베가_몬베베에게_추천하는_맛집 OR #민석이를_위한_카페투어 OR #먹어봤도영 OR #제노의_맛그당어 OR #재민아_밥먹어 OR #원데이식스밀 “”\n",
      "============================\n",
      "#승연아_우즈야_여기야 OR #황제를위한메뉴판 OR #강다니엘_염염긋 OR #백현이를_위한_맛집투어 OR #몬베베가_몬베베에게_추천하는_맛집 OR #민석이를_위한_카페투어 OR #먹어봤도영 OR #제노의_맛그당어 OR #재민아_밥먹어 OR #원데이식스밀 , \"광안리”\n",
      "\n",
      "아시발 이거써치하래ㅋㅋ\n",
      "============================\n",
      "#빈아_운동및식단_포기했다\n",
      "#돌잔치_음식추천\n",
      "#로하_이거먹으러_왔따나\n",
      "#승연아_우즈야_여기야 \n",
      "#황제를위한메뉴판 \n",
      "#강다니엘_염염긋 \n",
      "#백현이를_위한_맛집투어  #민석이를_위한_카페투어\n",
      "#먹어봤도영 \n",
      "#제노의_맛그당어\n",
      "#재민아_밥먹어\n",
      "#원데이식스밀 \n",
      "#백현아_먹짱일기_적짱\n",
      "#박지성_단1g도안줌\n",
      "============================\n",
      "#백현이를_위한_맛집투어\n",
      "#승연아_우즈야_여기야\n",
      "#몬베베가_몬베베에게_추천하는_맛집\n",
      "#이_식당은_진심으로_하늘이에요\n",
      "#백현아_먹짱일기_적짱\n",
      "#박지성_단1g도안줌\n",
      "#제노의_맛그당어\n",
      "============================\n",
      "#승연아_우즈야_여기야\n",
      "#순영아_이거_맛있어\n",
      "여의도 오츠츠\n",
      "여의도에서 퀄좋은 그릭요커트볼을 먹을수있는곳 L사이즈에 토핑5가지 추가해먹을수 있는데 양이엄청만고ㅜ마싯어요 https://t.co/LBqSBbpWDu\n",
      "============================\n",
      "#승연아_우즈야_여기야\n",
      "\n",
      "연남 올랑올랑 🍣\n",
      "\n",
      "연어가 잔뜩 있는 연어맛집!!!\n",
      "\n",
      "연어가 거의 모든 요리의 메인이고 계속 먹으면 물릴까봐 소바 시켰는데 완전 딱이었음 !!\n",
      "맛있어서 여러개 주문하고 배터질때까지 먹었다네요~🤤💗\n",
      "또 가고싶다  ... https://t.co/L0UVnAlv3L\n",
      "============================\n",
      "전포 도토리다방\n",
      "아이스크림 와플\n",
      "트로피칼소다\n",
      "메론소다\n",
      "채광 잘 드는 카페를 찾는다면 바로 여기🤤\n",
      "\n",
      "#승연아_우즈야_여기야 https://t.co/1lHk2LbKHh\n",
      "============================\n",
      "광안리 녹아내려\n",
      "커스터드 파이..🤤\n",
      "디저트가 맛있고 홍차도 맛있어요\n",
      "디카페인 홍차도 있어서 카페인 쓰레기 단비도 먹고 꿀잠 잠!!\n",
      "\n",
      "#승연아_우즈야_여기야 https://t.co/WqusncT9tU\n",
      "============================\n",
      "📍서촌 - 오무사\n",
      "비오는 날 야외 테라스\n",
      "비가 오는 날엔 부르는 승연이 보면서 와인🍷🫒\n",
      "\n",
      "#ㅈㅅㅇㅇㅈ #승연아_우즈야_여기야 https://t.co/r09KRo0Ea8\n",
      "============================\n",
      "🍝 혜화 128pan\n",
      "정말 나만 알고 싶은데 맛있어서 진짜 특별히 공유함 ^^... 재방문 진짜 절대 하고 싶고 예약은 필수임 풍기(버섯)리조또랑 마레파스타 시켰는데 둘 다 개맛있음 저 빵 위에 파스타 얹어 먹으면 그냥 극락... ㅠ\n",
      "\n",
      "#승연아_우즈야_여기야 https://t.co/OL5hfiaHmI\n",
      "============================\n",
      "☕️ 혜화 블루문\n",
      "분위기 좋은 카페... 아인슈페너(0.6)은 조금 쓰대요 딸기라떼(0.6)은 괜찮았음! 엘피로 노래를 틀어주셔서 조용조용 얘기하기 좋음 치즈케이크가 유명하다네요\n",
      "\n",
      "#승연아_우즈야_여기야 https://t.co/LNz2wDcnSb\n",
      "============================\n",
      "📍을지로 을지깐깐\n",
      "\n",
      "게살국수\n",
      "공심채볶음밥\n",
      "수제 짜조\n",
      "\n",
      "웨이팅있다는거 같은데 어쩌다 첫 손님으로 들어가서 싹싹 비우고옴\n",
      "식기나 액자들 베트남에서 공수해오셨다는데 그래서인지 인테리어도 엄청 신경쓰신 느낌이남! 재방문의사 완전 있음! 다른 메뉴도 먹어보고 싶다 😋\n",
      "#승연아_우즈야_여기야 https://t.co/CpEabxXyeT\n",
      "============================\n",
      "커스텀칵테일로 유명한 홍대 비터스 나두 다녀왔다아아 ( *ฅ́˘ฅ̀*)\n",
      "\n",
      "여성전용이라 스녀니는 못가지만 해시태그는 좀 쓸게 쿄쿄쿜\n",
      "\n",
      "#승연아_우즈야_여기야 https://t.co/kcxMb8zRiX\n",
      "============================\n",
      "바질 파스타 너무 좋아🧡💙\n",
      "오리엔탈 파스타도 콜드 파스타라\n",
      "따듯한 야채파니니 메뉴도 하나 더 했는데\n",
      "고기 안들어갔다고??라 맛 의심해서 미안\n",
      "샐러드 안에 통피스타치오까지 취향범벅임 \n",
      "모르고 갔는데 오앤블템!! 무즈운명 인정😎\n",
      "\n",
      "📍살살솔트앤샐러드\n",
      "#한성대입구맛집\n",
      "#승연아_우즈야_여기야 https://t.co/92wB5ttfGu\n",
      "============================\n",
      "연남 메리고라운드🧸\n",
      "\n",
      "진짜 너무너무 귀여웠음 ㅠㅁㅠ\n",
      "최애가 곰돌이로 모에화 된다? 무조건 가세요..\n",
      "오늘 할로윈이라 컵케이크에 호박마시멜로 올려주셨는데 에바 존나 귀여움 ㅠㅠ🤍🎃\n",
      "맛은 평타치는데 보는 눈이 즐거워서 백점만점에 오백점인 카페!!🧸🧁🤍🎃💛\n",
      "\n",
      "#승연아_우즈야_여기야 https://t.co/GjybVaF8JK\n",
      "============================\n",
      "#승연아_우즈야_여기야\n",
      "경주 황리단길 분식\n",
      "해피치즈스마일\n",
      "돈까스 플레이트 추천요~ \n",
      "안심이 아주 살살 녹아요 https://t.co/JzJoO1yx6P\n",
      "============================\n",
      "#승연아_우즈야_여기야\n",
      "모짜렐라 치즈 듬뿍\n",
      "경주 황리단길 경주십원빵\n",
      "다보탑이 뒤에 있는 10원 모양빵 https://t.co/f2S0r1gBU1\n",
      "============================\n",
      "#승연아_우즈야_여기야\n",
      "경주 황리단길 주전부리 \n",
      "쫀드기 튀김 🍟황남쫀드기\n",
      "매콤한 맛은 살짝 매콤하고 달고 쫀득함\n",
      "오리지널도 맛있음\n",
      "맥주를 부르는 맛이지만 운전때문에 쫀맥 한 잔 못한게 아쉽 https://t.co/aroHSVSUX5\n",
      "============================\n",
      "#승연아_우즈야_여기야\n",
      "\n",
      "🍽 연남동 연어롭다\n",
      "\n",
      "생연어모듬 &amp; 명란로제파스타 🧡\n",
      "내가 초밥을 안먹어서 그런지 연어초밥은 그냥 그랬는데 사시미랑 타다끼는 진짜 맛있었다 ! 대부분이 명란로제랑 같이 시켜 먹는 것 같아서 나도 시켜봤는데 조합이 좋았다 연어 한입 먹고 씻은김치 한입 먹으면 환상 ❤️‍🔥 https://t.co/TyIXzFRcdm\n",
      "============================\n",
      "#승연아_우즈야_여기야\n",
      "\n",
      "❗연남 월량관\n",
      "\n",
      "중국음식하면 짜장면 마라탕만 생각하던 나를 죽이고싶음 샤오룽바오&lt;이새끼 진심 또라이처럼 맛있음 우육탕면도 컵라면만 쳐먹던 나를 반성시키는 맛 저 무슨 만두같은거도 너무 마시따 만두류가 진심 맛도리인듯 https://t.co/MwOzr29vM5\n",
      "============================\n",
      "#승연아_우즈야_여기야\n",
      "\n",
      "🍤부산대 텐동코하루🥢\n",
      "난 기본텐동에 계란추가👍\n",
      "텐동 메뉴 다양하고\n",
      "장어,새우,명란 등등 추가 가능😉\n",
      "같이 나오는 라멘국물(?)도 맛나용😋 https://t.co/HbgqqnrVXF\n",
      "============================\n",
      "밍밍아 집에 가자 \n",
      "소세지빵은 안데워줘서 걍 그랬고\n",
      "너티클라우드 언제 마셔도 대존맛\n",
      "도렐 서울 매장은 성수만 남았나봄\n",
      "\n",
      "📍도렐커피\n",
      "#제주카페\n",
      "#승연아_우즈야_여기야 \n",
      "\n",
      "죽여줘...중인 앞포켓 버클 이제 봤네 https://t.co/bt360tif4X\n",
      "============================\n",
      "@malang_bokkk_ #승연아_우즈야_여기야\n",
      "============================\n"
     ]
    }
   ],
   "source": [
    "for k in range(len(tweet)):\n",
    "    print(tweet[k]['text'])\n",
    "    print(\"============================\")"
   ]
  },
  {
   "cell_type": "code",
   "execution_count": 60,
   "id": "a02c3988",
   "metadata": {},
   "outputs": [
    {
     "name": "stdout",
     "output_type": "stream",
     "text": [
      "['동성로 맛집']\n",
      "['송리단길 갓잇']\n",
      "['연남 야키토리']\n",
      "['여의도 오츠츠']\n",
      "['연남 올랑올랑']\n",
      "['혜화 128pan']\n",
      "['혜화 블루문']\n",
      "['을지로 을지깐깐']\n",
      "['홍대 비터스']\n",
      "['연남 메리고라운드']\n",
      "['경주 황리단길']\n",
      "['경주 황리단길']\n",
      "['경주 황리단길']\n",
      "['연남 월량관']\n"
     ]
    }
   ],
   "source": [
    "region_list = ['홍대','건대','연남','강남','혜화','송리단길','동성로','여의도','을지로','경주']\n",
    "for k in range(len(tweet)):\n",
    "    tweet_text=tweet[k]['text']\n",
    "    #print(tweet_text+'\\n')\n",
    "    split_twt= tweet_text.split()\n",
    "    #print(split_twt)\n",
    "    \n",
    "    for i in region_list:\n",
    "        keyword = re.findall(i+'\\s\\w+',tweet_text)\n",
    "        if keyword:\n",
    "            print(keyword)"
   ]
  },
  {
   "cell_type": "code",
   "execution_count": 22,
   "id": "603d14b3",
   "metadata": {},
   "outputs": [
    {
     "name": "stdout",
     "output_type": "stream",
     "text": [
      "['☕️', '혜화', '블루문', '분위기', '좋은', '카페...', '아인슈페너(0.6)은', '조금', '쓰대요', '딸기라떼(0.6)은', '괜찮았음!', '엘피로', '노래를', '틀어주셔서', '조용조용', '얘기하기', '좋음', '치즈케이크가', '유명하다네요', '#승연아_우즈야_여기야', 'https://t.co/LNz2wDcnSb']\n"
     ]
    }
   ],
   "source": [
    "split_list = test_text.split()\n",
    "region_list = ['연남','혜화']\n",
    "print(split_list)"
   ]
  },
  {
   "cell_type": "code",
   "execution_count": 23,
   "id": "2aa7063b",
   "metadata": {},
   "outputs": [
    {
     "name": "stdout",
     "output_type": "stream",
     "text": [
      "혜화\n"
     ]
    }
   ],
   "source": [
    "keyword=\"\"\n",
    "for k in split_list:\n",
    "    if k in region_list:\n",
    "            keyword+=k\n",
    "print(keyword)"
   ]
  },
  {
   "cell_type": "code",
   "execution_count": 38,
   "id": "8db4e91e",
   "metadata": {},
   "outputs": [
    {
     "name": "stdout",
     "output_type": "stream",
     "text": [
      "['혜화 블루문']\n"
     ]
    }
   ],
   "source": [
    "print(re.findall(region_list[1]+'\\s\\w+', test_text))"
   ]
  },
  {
   "cell_type": "code",
   "execution_count": 41,
   "id": "63985dcd",
   "metadata": {},
   "outputs": [
    {
     "name": "stdout",
     "output_type": "stream",
     "text": [
      "[]\n",
      "['혜화 블루문']\n"
     ]
    }
   ],
   "source": [
    "for k in region_list:\n",
    "    print(re.findall(k+'\\s\\w+',test_text))"
   ]
  },
  {
   "cell_type": "code",
   "execution_count": 33,
   "id": "3eb122cd",
   "metadata": {},
   "outputs": [
    {
     "data": {
      "text/plain": [
       "list"
      ]
     },
     "execution_count": 33,
     "metadata": {},
     "output_type": "execute_result"
    }
   ],
   "source": [
    "type(split_list)"
   ]
  },
  {
   "cell_type": "code",
   "execution_count": null,
   "id": "029cca87",
   "metadata": {},
   "outputs": [],
   "source": []
  }
 ],
 "metadata": {
  "kernelspec": {
   "display_name": "Python 3 (ipykernel)",
   "language": "python",
   "name": "python3"
  },
  "language_info": {
   "codemirror_mode": {
    "name": "ipython",
    "version": 3
   },
   "file_extension": ".py",
   "mimetype": "text/x-python",
   "name": "python",
   "nbconvert_exporter": "python",
   "pygments_lexer": "ipython3",
   "version": "3.9.7"
  }
 },
 "nbformat": 4,
 "nbformat_minor": 5
}
